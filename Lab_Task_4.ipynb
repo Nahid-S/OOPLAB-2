{
  "nbformat": 4,
  "nbformat_minor": 0,
  "metadata": {
    "colab": {
      "name": "Lab Task 4.ipynb",
      "provenance": [],
      "collapsed_sections": [],
      "include_colab_link": true
    },
    "kernelspec": {
      "name": "python3",
      "display_name": "Python 3"
    }
  },
  "cells": [
    {
      "cell_type": "markdown",
      "metadata": {
        "id": "view-in-github",
        "colab_type": "text"
      },
      "source": [
        "<a href=\"https://colab.research.google.com/github/Nahid-S/OOPLAB-2/blob/main/Lab_Task_4.ipynb\" target=\"_parent\"><img src=\"https://colab.research.google.com/assets/colab-badge.svg\" alt=\"Open In Colab\"/></a>"
      ]
    },
    {
      "cell_type": "code",
      "metadata": {
        "id": "dv5fgiINPQhy",
        "outputId": "e17e4107-a02a-4f20-f273-354bd91e55ae",
        "colab": {
          "base_uri": "https://localhost:8080/",
          "height": 34
        }
      },
      "source": [
        "#creating list\n",
        "\n",
        "lst0=[12,53,21,772,22.213,453.273,\"Lucifer\",[20,32,33]]\n",
        "print(lst0)\n",
        "lst1=[]\n",
        "\n"
      ],
      "execution_count": 48,
      "outputs": [
        {
          "output_type": "stream",
          "text": [
            "[12, 53, 21, 772, 22.213, 453.273, 'Lucifer', [20, 32, 33]]\n"
          ],
          "name": "stdout"
        }
      ]
    },
    {
      "cell_type": "code",
      "metadata": {
        "id": "OzhLaNmjPibF",
        "outputId": "349954f2-f74d-462e-9a3d-e347b5d20053",
        "colab": {
          "base_uri": "https://localhost:8080/",
          "height": 34
        }
      },
      "source": [
        "#iterating list\n",
        "\n",
        "lst0=[12,53,21,772,22.213,\"Morningstar\",[20,32,33]]\n",
        "for i in lst0:\n",
        "    print(i,end=' ')\n",
        "print('')"
      ],
      "execution_count": 60,
      "outputs": [
        {
          "output_type": "stream",
          "text": [
            "12 53 21 772 22.213 Morningstar [20, 32, 33] \n"
          ],
          "name": "stdout"
        }
      ]
    },
    {
      "cell_type": "code",
      "metadata": {
        "id": "KNxT03XVQl1s",
        "outputId": "60990f95-5de9-4500-fe92-1e59eca438ec",
        "colab": {
          "base_uri": "https://localhost:8080/",
          "height": 85
        }
      },
      "source": [
        "#iterating list\n",
        "\n",
        "lst0=[12, 53, 21, 772, 22.213, 453.273,\"Nahid\",[40, 32, 33]]\n",
        "print(lst0[2])\n",
        "print(lst0[6])\n",
        "print(lst0[-2])\n",
        "print(lst0[-1])"
      ],
      "execution_count": 59,
      "outputs": [
        {
          "output_type": "stream",
          "text": [
            "21\n",
            "Nahid\n",
            "Nahid\n",
            "[40, 32, 33]\n"
          ],
          "name": "stdout"
        }
      ]
    },
    {
      "cell_type": "code",
      "metadata": {
        "id": "Efc_Q8FCU1RZ",
        "outputId": "09214a21-46e0-4c1c-d65f-71d688b288f9",
        "colab": {
          "base_uri": "https://localhost:8080/",
          "height": 85
        }
      },
      "source": [
        "#lsit slicing\n",
        "\n",
        "lst0=[12, 53, 21, 772, 22.213, 453.273,\"Sharif\",[32,62,13]]\n",
        "\n",
        "print(lst0[2:7])\n",
        "print(lst0[2:])\n",
        "print(lst0[:5])\n",
        "print(lst0[:])"
      ],
      "execution_count": 58,
      "outputs": [
        {
          "output_type": "stream",
          "text": [
            "[21, 772, 22.213, 453.273, 'Sharif']\n",
            "[21, 772, 22.213, 453.273, 'Sharif', [32, 62, 13]]\n",
            "[12, 53, 21, 772, 22.213]\n",
            "[12, 53, 21, 772, 22.213, 453.273, 'Sharif', [32, 62, 13]]\n"
          ],
          "name": "stdout"
        }
      ]
    },
    {
      "cell_type": "code",
      "metadata": {
        "id": "jZEi7IZ0YRtn",
        "outputId": "c329ff9c-8f25-4e93-8c9b-03ffaac5036a",
        "colab": {
          "base_uri": "https://localhost:8080/",
          "height": 136
        }
      },
      "source": [
        "#List operations\n",
        "\n",
        "lst0=[21, 772, 22.213, 453.273,\"Crimson\",[4, 32, 33]]\n",
        "\n",
        "print(len(lst0))                #len( ) gives the length of the list\n",
        "\n",
        "lst0.append([12,2,12,2])        #append( ) inserts an element to the end of the list\n",
        "print(lst0)\n",
        "\n",
        "lst0.insert(2,\"pandas\")         #insert( ) insertes an element on a given index\n",
        "print(lst0)\n",
        "\n",
        "print(lst0.index(\"Crimson\"))     #index( ) returns index of first occurence of an element\n",
        "\n",
        "print(lst0.count('Crimson'))     #count( ) reuturns the number of occurence of an element\n",
        "\n",
        "print(lst0.reverse())           #reverse( ) makes a reverse list\n",
        "\n",
        "lst1=lst0.copy()                #copy( ) makes a copy of list\n",
        "print(lst1)\n",
        "\n",
        "lst0.clear()                    #clear( ) makes the list empty"
      ],
      "execution_count": 57,
      "outputs": [
        {
          "output_type": "stream",
          "text": [
            "6\n",
            "[21, 772, 22.213, 453.273, 'Crimson', [4, 32, 33], [12, 2, 12, 2]]\n",
            "[21, 772, 'pandas', 22.213, 453.273, 'Crimson', [4, 32, 33], [12, 2, 12, 2]]\n",
            "5\n",
            "1\n",
            "None\n",
            "[[12, 2, 12, 2], [4, 32, 33], 'Crimson', 453.273, 22.213, 'pandas', 772, 21]\n"
          ],
          "name": "stdout"
        }
      ]
    },
    {
      "cell_type": "code",
      "metadata": {
        "id": "VcznBtQPWFD1",
        "outputId": "60dcaba9-06a6-4a77-fc5f-054547062b41",
        "colab": {
          "base_uri": "https://localhost:8080/",
          "height": 68
        }
      },
      "source": [
        "#list sorting\n",
        "\n",
        "lst2=[33,16,12,24,480,50,100,200,400,500,1000,2000]\n",
        "\n",
        "lst3=sorted(lst2)\n",
        "print(lst3)\n",
        "print(lst2)\n",
        "lst2.sort()\n",
        "print(lst2)"
      ],
      "execution_count": 55,
      "outputs": [
        {
          "output_type": "stream",
          "text": [
            "[12, 16, 24, 33, 50, 100, 200, 400, 480, 500, 1000, 2000]\n",
            "[33, 16, 12, 24, 480, 50, 100, 200, 400, 500, 1000, 2000]\n",
            "[12, 16, 24, 33, 50, 100, 200, 400, 480, 500, 1000, 2000]\n"
          ],
          "name": "stdout"
        }
      ]
    },
    {
      "cell_type": "code",
      "metadata": {
        "id": "CsnsqMPsWn6m",
        "outputId": "daaf1f50-2acd-40e3-9889-b0e7acdc6c54",
        "colab": {
          "base_uri": "https://localhost:8080/",
          "height": 34
        }
      },
      "source": [
        "#creating tuple\n",
        "\n",
        "tp0=(42, 53, 21, 772, 22.213, 453.273,\"Warlock\",[2,32,3])\n",
        "print(tp0)\n",
        "tp1=()\n",
        "\n"
      ],
      "execution_count": 54,
      "outputs": [
        {
          "output_type": "stream",
          "text": [
            "(42, 53, 21, 772, 22.213, 453.273, 'Warlock', [2, 32, 3])\n"
          ],
          "name": "stdout"
        }
      ]
    },
    {
      "cell_type": "code",
      "metadata": {
        "id": "zqLQKHBrXNxY",
        "outputId": "4d4c77f0-6bfb-47dc-daf1-b10f7495712b",
        "colab": {
          "base_uri": "https://localhost:8080/",
          "height": 34
        }
      },
      "source": [
        "#iterating tuple\n",
        "\n",
        "tp0=(12, 53, 21, 772, 22.213, 453.273,\"Dracula\",[72,34,166])\n",
        "for i in tp0:\n",
        "    print(i,end=' ')\n",
        "print('')"
      ],
      "execution_count": 53,
      "outputs": [
        {
          "output_type": "stream",
          "text": [
            "12 53 21 772 22.213 453.273 Dracula [72, 34, 166] \n"
          ],
          "name": "stdout"
        }
      ]
    },
    {
      "cell_type": "code",
      "metadata": {
        "id": "KZUEXf9KXyFq",
        "outputId": "8a58b0ef-f0a1-499c-9a4b-bb58da86357e",
        "colab": {
          "base_uri": "https://localhost:8080/",
          "height": 85
        }
      },
      "source": [
        "#iterating tuple\n",
        "\n",
        "tp0=(12, 53, 21, 772, 22.213, 453.273,\"python\",[72,34,166])\n",
        "print(tp0[2])\n",
        "print(tp0[6])\n",
        "print(tp0[-2])\n",
        "print(tp0[-5])"
      ],
      "execution_count": 52,
      "outputs": [
        {
          "output_type": "stream",
          "text": [
            "21\n",
            "python\n",
            "python\n",
            "772\n"
          ],
          "name": "stdout"
        }
      ]
    },
    {
      "cell_type": "code",
      "metadata": {
        "id": "J0R9_6tYYU6j",
        "outputId": "61c9ab30-c8ac-48ed-daba-dc1ec835a7fa",
        "colab": {
          "base_uri": "https://localhost:8080/",
          "height": 34
        }
      },
      "source": [
        "#inserting into tuple\n",
        "\n",
        "tp0=(12, 53, 21, 772, 22.213, 453.273,\"Alucard\",[7,4,16])\n",
        "tp0+=(\"pandas\",232,3,232,3)\n",
        "print(tp0)"
      ],
      "execution_count": 51,
      "outputs": [
        {
          "output_type": "stream",
          "text": [
            "(12, 53, 21, 772, 22.213, 453.273, 'Alucard', [7, 4, 16], 'pandas', 232, 3, 232, 3)\n"
          ],
          "name": "stdout"
        }
      ]
    },
    {
      "cell_type": "code",
      "metadata": {
        "id": "ZWp59vSEZfJJ",
        "outputId": "ded3478f-80f3-4bbf-f682-e778b1d6f7b8",
        "colab": {
          "base_uri": "https://localhost:8080/",
          "height": 85
        }
      },
      "source": [
        "#unpacking sequences\n",
        "\n",
        "lst=[12, 53, 21, 772]\n",
        "a,b,c,d=lst\n",
        "print(a)\n",
        "print(b)\n",
        "print(c)\n",
        "print(d)"
      ],
      "execution_count": 39,
      "outputs": [
        {
          "output_type": "stream",
          "text": [
            "12\n",
            "53\n",
            "21\n",
            "772\n"
          ],
          "name": "stdout"
        }
      ]
    },
    {
      "cell_type": "code",
      "metadata": {
        "id": "o-2Xal8TZ1mo",
        "outputId": "e89c5303-5532-479d-83ef-bb7e14f18c5d",
        "colab": {
          "base_uri": "https://localhost:8080/",
          "height": 85
        }
      },
      "source": [
        "#unpacking sequences\n",
        "\n",
        "tp=(21, 772, 22.213, 453.273)\n",
        "a,b,c,d=tp\n",
        "print(a)\n",
        "print(b)\n",
        "print(c)\n",
        "print(d)"
      ],
      "execution_count": 41,
      "outputs": [
        {
          "output_type": "stream",
          "text": [
            "21\n",
            "772\n",
            "22.213\n",
            "453.273\n"
          ],
          "name": "stdout"
        }
      ]
    }
  ]
}