{
  "nbformat": 4,
  "nbformat_minor": 0,
  "metadata": {
    "colab": {
      "name": "Lab Task 4.ipynb",
      "provenance": [],
      "collapsed_sections": [],
      "include_colab_link": true
    },
    "kernelspec": {
      "name": "python3",
      "display_name": "Python 3"
    }
  },
  "cells": [
    {
      "cell_type": "markdown",
      "metadata": {
        "id": "view-in-github",
        "colab_type": "text"
      },
      "source": [
        "<a href=\"https://colab.research.google.com/github/Nahid-S/OOPLAB-2/blob/main/Lab_Task_4.ipynb\" target=\"_parent\"><img src=\"https://colab.research.google.com/assets/colab-badge.svg\" alt=\"Open In Colab\"/></a>"
      ]
    },
    {
      "cell_type": "code",
      "metadata": {
        "id": "dv5fgiINPQhy",
        "outputId": "69e02470-4dce-4915-e701-fe5a6c910215",
        "colab": {
          "base_uri": "https://localhost:8080/",
          "height": 34
        }
      },
      "source": [
        "#creating list\n",
        "\n",
        "lst0=[12,53,21,772,22.213,453.273,\"python\",[20,32,33]]\n",
        "print(lst0)\n",
        "lst1=[]\n",
        "\n"
      ],
      "execution_count": 43,
      "outputs": [
        {
          "output_type": "stream",
          "text": [
            "[12, 53, 21, 772, 22.213, 453.273, 'python', [20, 32, 33]]\n"
          ],
          "name": "stdout"
        }
      ]
    },
    {
      "cell_type": "code",
      "metadata": {
        "id": "OzhLaNmjPibF",
        "outputId": "4b956f1b-97ed-4991-8a41-a2b7ff2db1a6",
        "colab": {
          "base_uri": "https://localhost:8080/",
          "height": 34
        }
      },
      "source": [
        "#iterating list\n",
        "\n",
        "lst0=[12,53,21,772,22.213,\"python\",[20,32,33]]\n",
        "for i in lst0:\n",
        "    print(i,end=' ')\n",
        "print('')"
      ],
      "execution_count": 23,
      "outputs": [
        {
          "output_type": "stream",
          "text": [
            "12 53 21 772 22.213 python [20, 32, 33] \n"
          ],
          "name": "stdout"
        }
      ]
    },
    {
      "cell_type": "code",
      "metadata": {
        "id": "KNxT03XVQl1s",
        "outputId": "fa128010-a86b-4ac0-bd2e-048e036ffde6",
        "colab": {
          "base_uri": "https://localhost:8080/",
          "height": 85
        }
      },
      "source": [
        "#iterating list\n",
        "\n",
        "lst0=[12, 53, 21, 772, 22.213, 453.273,\"python\",[40, 32, 33]]\n",
        "print(lst0[2])\n",
        "print(lst0[6])\n",
        "print(lst0[-2])\n",
        "print(lst0[-1])"
      ],
      "execution_count": 25,
      "outputs": [
        {
          "output_type": "stream",
          "text": [
            "21\n",
            "python\n",
            "python\n",
            "[40, 32, 33]\n"
          ],
          "name": "stdout"
        }
      ]
    },
    {
      "cell_type": "code",
      "metadata": {
        "id": "Efc_Q8FCU1RZ",
        "outputId": "c72e711f-3ba6-4163-9f20-f568fd6de3a9",
        "colab": {
          "base_uri": "https://localhost:8080/",
          "height": 85
        }
      },
      "source": [
        "#lsit slicing\n",
        "\n",
        "lst0=[12, 53, 21, 772, 22.213, 453.273,\"python\",[32,62,13]]\n",
        "\n",
        "print(lst0[2:7])\n",
        "print(lst0[2:])\n",
        "print(lst0[:5])\n",
        "print(lst0[:])"
      ],
      "execution_count": 28,
      "outputs": [
        {
          "output_type": "stream",
          "text": [
            "[21, 772, 22.213, 453.273, 'python']\n",
            "[21, 772, 22.213, 453.273, 'python', [32, 62, 13]]\n",
            "[12, 53, 21, 772, 22.213]\n",
            "[12, 53, 21, 772, 22.213, 453.273, 'python', [32, 62, 13]]\n"
          ],
          "name": "stdout"
        }
      ]
    },
    {
      "cell_type": "code",
      "metadata": {
        "id": "VcznBtQPWFD1",
        "outputId": "e5766051-acb4-45da-fac6-2dd14b0f2c03",
        "colab": {
          "base_uri": "https://localhost:8080/",
          "height": 68
        }
      },
      "source": [
        "#list sorting\n",
        "\n",
        "lst2=[33,16,12,24,480,50,100,200,400,500,1000,2000]\n",
        "\n",
        "lst3=sorted(lst2)\n",
        "print(lst3)\n",
        "print(lst2)\n",
        "lst2.sort()\n",
        "print(lst2)"
      ],
      "execution_count": 34,
      "outputs": [
        {
          "output_type": "stream",
          "text": [
            "[12, 16, 24, 33, 50, 100, 200, 400, 480, 500, 1000, 2000]\n",
            "[33, 16, 12, 24, 480, 50, 100, 200, 400, 500, 1000, 2000]\n",
            "[12, 16, 24, 33, 50, 100, 200, 400, 480, 500, 1000, 2000]\n"
          ],
          "name": "stdout"
        }
      ]
    },
    {
      "cell_type": "code",
      "metadata": {
        "id": "CsnsqMPsWn6m",
        "outputId": "88c8e8dd-e938-4467-bd33-beca85c96e5e",
        "colab": {
          "base_uri": "https://localhost:8080/",
          "height": 34
        }
      },
      "source": [
        "#creating tuple\n",
        "\n",
        "tp0=(42, 53, 21, 772, 22.213, 453.273,\"python\",[2,32,3])\n",
        "print(tp0)\n",
        "tp1=()\n",
        "\n"
      ],
      "execution_count": 32,
      "outputs": [
        {
          "output_type": "stream",
          "text": [
            "(42, 53, 21, 772, 22.213, 453.273, 'python', [2, 32, 3])\n"
          ],
          "name": "stdout"
        }
      ]
    },
    {
      "cell_type": "code",
      "metadata": {
        "id": "zqLQKHBrXNxY",
        "outputId": "caf2a426-3e01-4161-ad62-6f05c62dcece",
        "colab": {
          "base_uri": "https://localhost:8080/",
          "height": 34
        }
      },
      "source": [
        "#iterating tuple\n",
        "\n",
        "tp0=(12, 53, 21, 772, 22.213, 453.273,\"python\",[72,34,166])\n",
        "for i in tp0:\n",
        "    print(i,end=' ')\n",
        "print('')"
      ],
      "execution_count": 33,
      "outputs": [
        {
          "output_type": "stream",
          "text": [
            "12 53 21 772 22.213 453.273 python [2, 32, 3] \n"
          ],
          "name": "stdout"
        }
      ]
    },
    {
      "cell_type": "code",
      "metadata": {
        "id": "KZUEXf9KXyFq",
        "outputId": "dee3cdbe-50de-453b-8b3b-2863f76a09c9",
        "colab": {
          "base_uri": "https://localhost:8080/",
          "height": 85
        }
      },
      "source": [
        "#iterating tuple\n",
        "\n",
        "tp0=(12, 53, 21, 772, 22.213, 453.273,\"python\",[72,34,166])\n",
        "print(tp0[2])\n",
        "print(tp0[6])\n",
        "print(tp0[-2])\n",
        "print(tp0[-5])"
      ],
      "execution_count": null,
      "outputs": [
        {
          "output_type": "stream",
          "text": [
            "3\n",
            "python\n",
            "python\n",
            "32\n"
          ],
          "name": "stdout"
        }
      ]
    },
    {
      "cell_type": "code",
      "metadata": {
        "id": "J0R9_6tYYU6j",
        "outputId": "2cd660ed-2113-4424-bca0-7941269a89ac",
        "colab": {
          "base_uri": "https://localhost:8080/",
          "height": 34
        }
      },
      "source": [
        "#inserting into tuple\n",
        "\n",
        "tp0=(12, 53, 21, 772, 22.213, 453.273,\"python\",[7,4,16])\n",
        "tp0+=(\"pandas\",232,3,232,3)\n",
        "print(tp0)"
      ],
      "execution_count": 35,
      "outputs": [
        {
          "output_type": "stream",
          "text": [
            "(12, 53, 21, 772, 22.213, 453.273, 'python', [7, 4, 16], 'pandas', 232, 3, 232, 3)\n"
          ],
          "name": "stdout"
        }
      ]
    },
    {
      "cell_type": "code",
      "metadata": {
        "id": "ZWp59vSEZfJJ",
        "outputId": "ded3478f-80f3-4bbf-f682-e778b1d6f7b8",
        "colab": {
          "base_uri": "https://localhost:8080/",
          "height": 85
        }
      },
      "source": [
        "#unpacking sequences\n",
        "\n",
        "lst=[12, 53, 21, 772]\n",
        "a,b,c,d=lst\n",
        "print(a)\n",
        "print(b)\n",
        "print(c)\n",
        "print(d)"
      ],
      "execution_count": 39,
      "outputs": [
        {
          "output_type": "stream",
          "text": [
            "12\n",
            "53\n",
            "21\n",
            "772\n"
          ],
          "name": "stdout"
        }
      ]
    },
    {
      "cell_type": "code",
      "metadata": {
        "id": "o-2Xal8TZ1mo",
        "outputId": "e89c5303-5532-479d-83ef-bb7e14f18c5d",
        "colab": {
          "base_uri": "https://localhost:8080/",
          "height": 85
        }
      },
      "source": [
        "#unpacking sequences\n",
        "\n",
        "tp=(21, 772, 22.213, 453.273)\n",
        "a,b,c,d=tp\n",
        "print(a)\n",
        "print(b)\n",
        "print(c)\n",
        "print(d)"
      ],
      "execution_count": 41,
      "outputs": [
        {
          "output_type": "stream",
          "text": [
            "21\n",
            "772\n",
            "22.213\n",
            "453.273\n"
          ],
          "name": "stdout"
        }
      ]
    }
  ]
}